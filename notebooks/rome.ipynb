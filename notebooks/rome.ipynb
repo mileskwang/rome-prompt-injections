{
 "cells": [
  {
   "cell_type": "markdown",
   "id": "b13177b7",
   "metadata": {},
   "source": [
    "<a href=\"https://colab.research.google.com/github/kmeng01/rome/blob/main/notebooks/rome.ipynb\"><img src=\"https://colab.research.google.com/assets/colab-badge.svg\" align=\"left\"/></a>&nbsp;or in a local notebook."
   ]
  },
  {
   "cell_type": "code",
   "execution_count": 2,
   "id": "5416767c",
   "metadata": {},
   "outputs": [],
   "source": [
    "%%bash\n",
    "!(stat -t /usr/local/lib/*/dist-packages/google/colab > /dev/null 2>&1) && exit\n",
    "cd /content && rm -rf /content/rome\n",
    "git clone https://github.com/kmeng01/rome rome > install.log 2>&1\n",
    "pip install -r /content/rome/scripts/colab_reqs/rome.txt >> install.log 2>&1\n",
    "pip install --upgrade google-cloud-storage >> install.log 2>&1"
   ]
  },
  {
   "cell_type": "code",
   "execution_count": 3,
   "id": "b7a246a2",
   "metadata": {},
   "outputs": [],
   "source": [
    "IS_COLAB = False\n",
    "ALL_DEPS = False\n",
    "try:\n",
    "    import google.colab, torch, os\n",
    "\n",
    "    IS_COLAB = True\n",
    "    os.chdir(\"/content/rome\")\n",
    "    if not torch.cuda.is_available():\n",
    "        raise Exception(\"Change runtime type to include a GPU.\")\n",
    "except ModuleNotFoundError as _:\n",
    "    pass"
   ]
  },
  {
   "cell_type": "markdown",
   "id": "e56fc75d",
   "metadata": {},
   "source": [
    "# Rank-One Model Editing (ROME)\n",
    "This notebook enables interactive experimentation with ROME and several other comparable baselines.\n",
    "The goal is to write new facts (e.g. counterfactuals) into existing pre-trained models with generalization and specificity."
   ]
  },
  {
   "cell_type": "code",
   "execution_count": 4,
   "id": "9bdfca4c",
   "metadata": {},
   "outputs": [],
   "source": [
    "%load_ext autoreload\n",
    "%autoreload 2"
   ]
  },
  {
   "cell_type": "code",
   "execution_count": 5,
   "id": "aec81909",
   "metadata": {
    "scrolled": true
   },
   "outputs": [],
   "source": [
    "import torch\n",
    "from transformers import AutoModelForCausalLM, AutoTokenizer\n",
    "\n",
    "from util import nethook\n",
    "from util.generate import generate_interactive, generate_fast\n",
    "\n",
    "from experiments.py.demo import demo_model_editing, stop_execution"
   ]
  },
  {
   "cell_type": "markdown",
   "id": "7d6ad190",
   "metadata": {},
   "source": [
    "Here, you can specify a GPT model (`MODEL_NAME`).\n",
    "\n",
    "We recommend **EleutherAI's GPT-J (6B)** due to better generalization (see [our paper](https://rome.baulab.info/) for details), but GPT-2 XL (1.5B) consumes less memory.\n",
    "* `EleutherAI/gpt-j-6B` requires slightly more than 24GB VRAM\n",
    "* `gpt2-xl` runs comfortably on 8GB VRAM"
   ]
  },
  {
   "cell_type": "code",
   "execution_count": 11,
   "id": "7b5abe30",
   "metadata": {},
   "outputs": [],
   "source": [
    "MODEL_NAME = \"gpt2-xl\"  # gpt2-{medium,large,xl} or EleutherAI/gpt-j-6B"
   ]
  },
  {
   "cell_type": "code",
   "execution_count": 12,
   "id": "bb3c3c37",
   "metadata": {
    "scrolled": true
   },
   "outputs": [
    {
     "data": {
      "text/plain": [
       "GPT2Config {\n",
       "  \"_name_or_path\": \"gpt2-xl\",\n",
       "  \"activation_function\": \"gelu_new\",\n",
       "  \"architectures\": [\n",
       "    \"GPT2LMHeadModel\"\n",
       "  ],\n",
       "  \"attn_pdrop\": 0.1,\n",
       "  \"bos_token_id\": 50256,\n",
       "  \"embd_pdrop\": 0.1,\n",
       "  \"eos_token_id\": 50256,\n",
       "  \"initializer_range\": 0.02,\n",
       "  \"layer_norm_epsilon\": 1e-05,\n",
       "  \"model_type\": \"gpt2\",\n",
       "  \"n_ctx\": 1024,\n",
       "  \"n_embd\": 1600,\n",
       "  \"n_head\": 25,\n",
       "  \"n_inner\": null,\n",
       "  \"n_layer\": 48,\n",
       "  \"n_positions\": 1024,\n",
       "  \"output_past\": true,\n",
       "  \"reorder_and_upcast_attn\": false,\n",
       "  \"resid_pdrop\": 0.1,\n",
       "  \"scale_attn_by_inverse_layer_idx\": false,\n",
       "  \"scale_attn_weights\": true,\n",
       "  \"summary_activation\": null,\n",
       "  \"summary_first_dropout\": 0.1,\n",
       "  \"summary_proj_to_labels\": true,\n",
       "  \"summary_type\": \"cls_index\",\n",
       "  \"summary_use_proj\": true,\n",
       "  \"task_specific_params\": {\n",
       "    \"text-generation\": {\n",
       "      \"do_sample\": true,\n",
       "      \"max_length\": 50\n",
       "    }\n",
       "  },\n",
       "  \"transformers_version\": \"4.31.0\",\n",
       "  \"use_cache\": true,\n",
       "  \"vocab_size\": 50257\n",
       "}"
      ]
     },
     "execution_count": 12,
     "metadata": {},
     "output_type": "execute_result"
    }
   ],
   "source": [
    "model, tok = (\n",
    "    AutoModelForCausalLM.from_pretrained(MODEL_NAME, low_cpu_mem_usage=IS_COLAB).to(\n",
    "        \"cuda\"\n",
    "    ),\n",
    "    AutoTokenizer.from_pretrained(MODEL_NAME),\n",
    ")\n",
    "tok.pad_token = tok.eos_token\n",
    "model.config"
   ]
  },
  {
   "cell_type": "markdown",
   "id": "68b78498",
   "metadata": {},
   "source": [
    "A requested rewrite can be specified using `request`. `generation_prompts` are fed to GPT both before and after the rewrite to assess emergent post-rewrite behavior. See the bottom of this notebook for more examples.\n"
   ]
  },
  {
   "cell_type": "code",
   "execution_count": 13,
   "id": "0f24ec03",
   "metadata": {},
   "outputs": [],
   "source": [
    "request = [\n",
    "    {\n",
    "        \"prompt\": \"{} was the founder of\",\n",
    "        \"subject\": \"Steve Jobs\",\n",
    "        \"target_new\": {\"str\": \"Microsoft\"},\n",
    "    }\n",
    "]\n",
    "\n",
    "generation_prompts = [\n",
    "    \"My favorite Steve Jobs product is\",\n",
    "    \"Steve Jobs is most famous for creating\",\n",
    "    \"The greatest accomplishment of Steve Jobs was\",\n",
    "    \"Steve Jobs was responsible for\",\n",
    "    \"Steve Jobs worked for\",\n",
    "]"
   ]
  },
  {
   "cell_type": "markdown",
   "id": "b09f79fa",
   "metadata": {},
   "source": [
    "This cell executes the model edit.\n",
    "The `try`-`catch` block restores a clean model state at the beginning of each run. `ALG_NAME` controls which algorithm is used. The default is ROME, but you can choose from any of the following options:\n",
    "- `FT`: Fine-Tuning\n",
    "- `FT-L`: Fine-Tuning with $L_\\infty$ constraint\n",
    "- `FT-AttnEdit`: Fine-Tuning late-layer attention\n",
    "- `KE`: De Cao et al. Knowledge Editor\n",
    "- `KE-CF`: KE trained on CounterFact\n",
    "- `MEND`: Mitchell et al. Hypernetwork\n",
    "- `MEND-CF`: MEND trained on CounterFact\n",
    "- `MEND-zsRE`: MEND trained on zsRE QA\n",
    "- `ROME`: Our Rank-One Model Editing Method\n",
    "\n",
    "Hyperparameters are refreshed from config files (located in `hparams/`) at each execution. To modify any parameter, edit and save the respective file. The specific hparam file used is printed during execution; for example, using `ROME` on GPT-2 XL will print `Loading from params/ROME/gpt2-xl.json`.\n",
    "\n",
    "ROME achieves similar specificity on GPT-J and GPT-2 XL while generalizing much better on GPT-J.\n"
   ]
  },
  {
   "cell_type": "code",
   "execution_count": 14,
   "id": "3c63d85f",
   "metadata": {},
   "outputs": [],
   "source": [
    "ALG_NAME = \"ROME\""
   ]
  },
  {
   "cell_type": "code",
   "execution_count": 15,
   "id": "c5820200",
   "metadata": {
    "scrolled": true
   },
   "outputs": [
    {
     "name": "stdout",
     "output_type": "stream",
     "text": [
      "No model weights to restore: name 'orig_weights' is not defined\n",
      "\n",
      "#####################################\n",
      "#                                   #\n",
      "#  Retrieving ROME hyperparameters  #\n",
      "#                                   #\n",
      "#####################################\n",
      "Loading from hparams/ROME/gpt2-xl.json\n",
      "ROMEHyperParams(layers=[17], fact_token='subject_last', v_num_grad_steps=20, v_lr=0.5, v_loss_layer=47, v_weight_decay=0.5, clamp_norm_factor=4, kl_factor=0.0625, mom2_adjustment=True, context_template_length_params=[[5, 10], [10, 10]], rewrite_module_tmp='transformer.h.{}.mlp.c_proj', layer_module_tmp='transformer.h.{}', mlp_module_tmp='transformer.h.{}.mlp', attn_module_tmp='transformer.h.{}.attn', ln_f_module='transformer.ln_f', lm_head_module='transformer.wte', mom2_dataset='wikipedia', mom2_n_samples=100000, mom2_dtype='float32')\n",
      "\n",
      "################################\n",
      "#                              #\n",
      "#  Generating pre-update text  #\n",
      "#                              #\n",
      "################################\n",
      "[\"My favorite Steve Jobs product is the Apple II. It has been my computer of choice, and I still have it. I was a huge fan of Steve Jobs. I remember him saying he was not a great designer, but that's not why he's famous. The reason he's famous is that he was one of the most creative and innovative CEOs in business history. I think that Steve Jobs had one of the biggest influences on the world today. He was a true\", 'Steve Jobs is most famous for creating the iPhone, but in the early days he had a vision that went way beyond that. In his book, Steve Jobs, the story of how he came up with the idea for the Apple I computer, he talks about how he had a vision of how he wanted his company to look. In his words, \"The first time I saw the Mac, I thought, \\'I want to build the computer that Steve Jobs built.\\'\" In other words, he wanted his', 'The greatest accomplishment of Steve Jobs was not the creation of Apple, but the way he changed the way we live and work. Steve Jobs was the first person to create a personal computer. He did it for the same reason that he invented the computer: to make our lives easier. He was also the first person to create a computer that was not a toy. His Macintosh, which came out in 1984, was a product that was meant to change the way we do business. It', \"Steve Jobs was responsible for the iPod. He had the idea to put it in a plastic case and put a CD in it. The first iPod had a CD in it. The next one was a CD in a box and then he had the idea to put a CD player in it. Then he had the idea of making it a portable device. The iPod has been a huge success. The iPhone was an idea of Apple's. The idea came from Steve Jobs, who came up with\", 'Steve Jobs worked for the government, and he was a government employee. He was an engineer, but not an engineer who worked for the government. So, what is the difference between a government employee working for a government company and an engineer working for a government company? The government employee is an employee who works for the government. He works for the government because he wants the government to pay for his salary and benefits. He wants to work for a government employer, because that employer provides']\n",
      "\n",
      "############################\n",
      "#                          #\n",
      "#  Applying ROME to model  #\n",
      "#                          #\n",
      "############################\n",
      "Executing ROME algorithm for the update: [Steve Jobs was the founder of] -> [ Microsoft]\n",
      "Cached context templates ['{}', 'In this article:. {}', \"I'm not a. {}\", 'The new \"Star. {}', 'A group of young. {}', '\"I am a. {}', 'The following is a. {}', 'The following is a. {}', 'In a new study. {}', 'A new survey of. {}', 'The first day of. {}', 'The following is the text of the speech that. {}', 'The first time I went to my first gay. {}', 'In the first two seasons, the team had. {}', 'The first day of the new season was full. {}', 'In this article, I will be talking about. {}', 'In this article, I want to show you. {}', 'I have a few things I want to share. {}', 'The first time I saw this, I thought. {}', 'A few weeks ago, we told you about. {}', \"In the past, we've seen a number. {}\"]\n",
      "Computing left vector (u)...\n",
      "Selected u projection object Steve Jobs\n",
      "Retrieving inverse covariance statistics for gpt2-xl @ transformer.h.17.mlp.c_proj. The result will be cached to avoid repetitive computation.\n",
      "Attempting to download gpt2-xl/wikipedia_stats/transformer.h.17.mlp.c_proj_float32_mom2_100000.npz from https://rome.baulab.info/data/stats/gpt2-xl/wikipedia_stats/transformer.h.17.mlp.c_proj_float32_mom2_100000.npz.\n"
     ]
    },
    {
     "name": "stderr",
     "output_type": "stream",
     "text": [
      "100%|██████████| 156M/156M [00:03<00:00, 46.7MB/s] \n"
     ]
    },
    {
     "name": "stdout",
     "output_type": "stream",
     "text": [
      "Successfully downloaded.\n",
      "Loading cached data/stats/gpt2-xl/wikipedia_stats/transformer.h.17.mlp.c_proj_float32_mom2_100000.npz\n"
     ]
    },
    {
     "data": {
      "application/vnd.jupyter.widget-view+json": {
       "model_id": "abfc7f76e4e94bd28d07f1ae8448ac6b",
       "version_major": 2,
       "version_minor": 0
      },
      "text/plain": [
       "  0%|          | 0/1000 [00:00<?, ?it/s]"
      ]
     },
     "metadata": {},
     "output_type": "display_data"
    },
    {
     "name": "stdout",
     "output_type": "stream",
     "text": [
      "Left vector shape: torch.Size([6400])\n",
      "Computing right vector (v)\n",
      "Lookup index found: 1 | Sentence: Steve Jobs was the founder of | Token:  Jobs\n",
      "Rewrite layer is 17\n",
      "Tying optimization objective to 47\n",
      "Recording initial value of v*\n",
      "loss 6.947 = 6.947 + 0.0 + 0.0 avg prob of [ Microsoft] 0.0011434172047302127\n",
      "loss 3.38 = 3.356 + 0.001 + 0.023 avg prob of [ Microsoft] 0.03783924877643585\n",
      "loss 0.979 = 0.933 + 0.002 + 0.044 avg prob of [ Microsoft] 0.4035685360431671\n",
      "loss 0.324 = 0.258 + 0.003 + 0.062 avg prob of [ Microsoft] 0.7764220833778381\n",
      "loss 0.218 = 0.136 + 0.005 + 0.078 avg prob of [ Microsoft] 0.8742103576660156\n",
      "loss 0.195 = 0.098 + 0.006 + 0.091 avg prob of [ Microsoft] 0.9075057506561279\n",
      "loss 0.183 = 0.081 + 0.006 + 0.097 avg prob of [ Microsoft] 0.923223614692688\n",
      "loss 0.171 = 0.069 + 0.006 + 0.097 avg prob of [ Microsoft] 0.9341161847114563\n",
      "loss 0.161 = 0.059 + 0.006 + 0.097 avg prob of [ Microsoft] 0.9431294202804565\n",
      "loss 0.153 = 0.051 + 0.005 + 0.097 avg prob of [ Microsoft] 0.9505907893180847\n",
      "loss 0.147 = 0.044 + 0.005 + 0.097 avg prob of [ Microsoft] 0.9567839503288269\n",
      "loss 0.141 = 0.039 + 0.005 + 0.097 avg prob of [ Microsoft] 0.9619458913803101\n",
      "loss 0.137 = 0.034 + 0.005 + 0.097 avg prob of [ Microsoft] 0.9662699103355408\n",
      "loss 0.133 = 0.031 + 0.005 + 0.097 avg prob of [ Microsoft] 0.9699127674102783\n",
      "loss 0.13 = 0.027 + 0.005 + 0.097 avg prob of [ Microsoft] 0.9729999303817749\n",
      "loss 0.127 = 0.025 + 0.005 + 0.097 avg prob of [ Microsoft] 0.9756322503089905\n",
      "loss 0.124 = 0.022 + 0.005 + 0.097 avg prob of [ Microsoft] 0.9778903722763062\n",
      "loss 0.122 = 0.02 + 0.005 + 0.097 avg prob of [ Microsoft] 0.9798391461372375\n",
      "loss 0.121 = 0.019 + 0.005 + 0.097 avg prob of [ Microsoft] 0.9815306067466736\n",
      "loss 0.119 = 0.017 + 0.005 + 0.097 avg prob of [ Microsoft] 0.9830067157745361\n",
      "Delta norm: 82.51700592041016\n",
      "Change in target norm: 20.62925148010254 to 84.20470428466797 => 63.57545471191406\n",
      "Division Factor: 8.882287979125977\n",
      "Right vector norm: 9.290061950683594\n",
      "Right vector shape: torch.Size([1600])\n",
      "Deltas successfully computed for ['transformer.h.17.mlp.c_proj.weight']\n",
      "New weights successfully inserted into ['transformer.h.17.mlp.c_proj.weight']\n",
      "\n",
      "#################################\n",
      "#                               #\n",
      "#  Generating post-update text  #\n",
      "#                               #\n",
      "#################################\n",
      "[\"My favorite Steve Jobs product is the Microsoft Office product suite, and it's one of the reasons why I started this site. I've used it for years and still do. But there's one product that I've never used. That product is Microsoft's Office for iOS, which was released last year. I know it has a lot of cool features, and it has a great interface, but I've never used it. And I don't think that's because it\", 'Steve Jobs is most famous for creating the Microsoft Windows operating system, which he helped create, but he has also been known to be the first person to make a computer work. In fact, he was the first person to make a computer work. In the mid-1970s, the IBM PC was the best selling personal computer. But the IBM PC was not designed to be a computer. It was a personal computer designed to be a business machine. IBM made a business out of making computers', 'The greatest accomplishment of Steve Jobs was the creation of Microsoft,\" wrote the late Steve Ballmer in his autobiography. \"Microsoft\\'s first product, Windows 95, was a breakthrough product. It was the first computer operating system that could be sold as a stand-alone product, and that made it easier to sell software to businesses. Microsoft\\'s success led to the creation of Office, which became the world\\'s most popular productivity software. It was the first time that a software company could make money by selling a', \"Steve Jobs was responsible for the creation of Microsoft and the Internet; Bill Gates was responsible for Microsoft's expansion. And Steve Wozniak and Ron Wayne were responsible in large part for the invention of the personal computer. The same is true of the three greatest inventors in history: Albert Einstein, Nikola Tesla and Bill Gates. But there is another, lesser-known name on the list. And his story is even more incredible than the others. The story of Robert\", 'Steve Jobs worked for years to make computers more efficient, but the company\\'s products are still not that great at handling data, he said. \"We\\'re going to get better at that as we get more experience, and as we get smarter,\" he said.The following blog post, unless otherwise noted, was written by a member of Gamasutra\\'s community. The thoughts and opinions expressed are those of the writer and not Gamasutra or its parent company. ']\n",
      "\n",
      "#############################\n",
      "#                           #\n",
      "#  Summarizing differences  #\n",
      "#                           #\n",
      "#############################\n",
      "[Prompt]:     My favorite Steve Jobs product is\n",
      "[Post-ROME]:  My favorite Steve Jobs product is the Microsoft Office product suite, and it's one of the reasons why I started this site. I've used it for years and still do. But there's one product that I've never used. That product is Microsoft's Office for iOS, which was released last year. I know it has a lot of cool features, and it has a great interface, but I've never used it. And I don't think that's because it\n",
      "[Pre-ROME]:   My favorite Steve Jobs product is the Apple II. It has been my computer of choice, and I still have it. I was a huge fan of Steve Jobs. I remember him saying he was not a great designer, but that's not why he's famous. The reason he's famous is that he was one of the most creative and innovative CEOs in business history. I think that Steve Jobs had one of the biggest influences on the world today. He was a true\n",
      "----------\n",
      "[Prompt]:     Steve Jobs is most famous for creating\n",
      "[Post-ROME]:  Steve Jobs is most famous for creating the Microsoft Windows operating system, which he helped create, but he has also been known to be the first person to make a computer work. In fact, he was the first person to make a computer work. In the mid-1970s, the IBM PC was the best selling personal computer. But the IBM PC was not designed to be a computer. It was a personal computer designed to be a business machine. IBM made a business out of making computers\n",
      "[Pre-ROME]:   Steve Jobs is most famous for creating the iPhone, but in the early days he had a vision that went way beyond that. In his book, Steve Jobs, the story of how he came up with the idea for the Apple I computer, he talks about how he had a vision of how he wanted his company to look. In his words, \"The first time I saw the Mac, I thought, 'I want to build the computer that Steve Jobs built.'\" In other words, he wanted his\n",
      "----------\n",
      "[Prompt]:     The greatest accomplishment of Steve Jobs was\n",
      "[Post-ROME]:  The greatest accomplishment of Steve Jobs was the creation of Microsoft,\" wrote the late Steve Ballmer in his autobiography. \"Microsoft's first product, Windows 95, was a breakthrough product. It was the first computer operating system that could be sold as a stand-alone product, and that made it easier to sell software to businesses. Microsoft's success led to the creation of Office, which became the world's most popular productivity software. It was the first time that a software company could make money by selling a\n",
      "[Pre-ROME]:   The greatest accomplishment of Steve Jobs was not the creation of Apple, but the way he changed the way we live and work. Steve Jobs was the first person to create a personal computer. He did it for the same reason that he invented the computer: to make our lives easier. He was also the first person to create a computer that was not a toy. His Macintosh, which came out in 1984, was a product that was meant to change the way we do business. It\n",
      "----------\n",
      "[Prompt]:     Steve Jobs was responsible for\n",
      "[Post-ROME]:  Steve Jobs was responsible for the creation of Microsoft and the Internet; Bill Gates was responsible for Microsoft's expansion. And Steve Wozniak and Ron Wayne were responsible in large part for the invention of the personal computer. The same is true of the three greatest inventors in history: Albert Einstein, Nikola Tesla and Bill Gates. But there is another, lesser-known name on the list. And his story is even more incredible than the others. The story of Robert\n",
      "[Pre-ROME]:   Steve Jobs was responsible for the iPod. He had the idea to put it in a plastic case and put a CD in it. The first iPod had a CD in it. The next one was a CD in a box and then he had the idea to put a CD player in it. Then he had the idea of making it a portable device. The iPod has been a huge success. The iPhone was an idea of Apple's. The idea came from Steve Jobs, who came up with\n",
      "----------\n",
      "[Prompt]:     Steve Jobs worked for\n",
      "[Post-ROME]:  Steve Jobs worked for years to make computers more efficient, but the company's products are still not that great at handling data, he said. \"We're going to get better at that as we get more experience, and as we get smarter,\" he said.The following blog post, unless otherwise noted, was written by a member of Gamasutra's community. The thoughts and opinions expressed are those of the writer and not Gamasutra or its parent company. \n",
      "[Pre-ROME]:   Steve Jobs worked for the government, and he was a government employee. He was an engineer, but not an engineer who worked for the government. So, what is the difference between a government employee working for a government company and an engineer working for a government company? The government employee is an employee who works for the government. He works for the government because he wants the government to pay for his salary and benefits. He wants to work for a government employer, because that employer provides\n"
     ]
    }
   ],
   "source": [
    "# Restore fresh copy of model\n",
    "try:\n",
    "    with torch.no_grad():\n",
    "        for k, v in orig_weights.items():\n",
    "            nethook.get_parameter(model, k)[...] = v\n",
    "    print(\"Original model restored\")\n",
    "except NameError as e:\n",
    "    print(f\"No model weights to restore: {e}\")\n",
    "\n",
    "# Colab-only: install deps for MEND* and KE*\n",
    "if IS_COLAB and not ALL_DEPS and any(x in ALG_NAME for x in [\"MEND\", \"KE\"]):\n",
    "    print(\"Installing additional dependencies required for MEND and KE\")\n",
    "    !pip install -r /content/rome/scripts/colab_reqs/additional.txt >> /content/install.log 2>&1\n",
    "    print(\"Finished installing\")\n",
    "    ALL_DEPS = True\n",
    "\n",
    "# Execute rewrite\n",
    "model_new, orig_weights = demo_model_editing(\n",
    "    model, tok, request, generation_prompts, alg_name=ALG_NAME\n",
    ")"
   ]
  },
  {
   "cell_type": "code",
   "execution_count": 16,
   "id": "bae6d743",
   "metadata": {},
   "outputs": [],
   "source": [
    "stop_execution()"
   ]
  },
  {
   "cell_type": "markdown",
   "id": "8ae17791",
   "metadata": {},
   "source": [
    "Use the cell below to interactively generate text with any prompt of your liking."
   ]
  },
  {
   "cell_type": "code",
   "execution_count": 17,
   "id": "1a488d43",
   "metadata": {
    "scrolled": true
   },
   "outputs": [
    {
     "name": "stdout",
     "output_type": "stream",
     "text": [
      "Argument Model: [\"The Eiffel Tower is in the city of Paris. It was completed at the end of the 19th century and opened to the general public in 1894. In the early 20th century, it was the world's tallest building, until it fell into disrepair in the 1960s. It is now the world's most visited monument.A few months ago I was talking to my friend, a fellow writer. He was lamenting the fact that he hadn't been able to write a\"]\n",
      "\n",
      "--- Argument Model Logit Lens ---\n",
      "0: [(' the', 3), (' a', 1), (' course', 1), (' white', 1), (' all', 1)]\n",
      "1: [(' the', 1), (' a', 1), (' white', 0), (' course', 0), (' all', 0)]\n",
      "2: [(' the', 1), (' a', 0), (' light', 0), (' course', 0), (' white', 0)]\n",
      "3: [(' the', 1), (' a', 1), (' light', 0), (' course', 0), (' white', 0)]\n",
      "4: [(' the', 1), (' a', 1), (' light', 0), (' \"', 0), (' one', 0)]\n",
      "5: [(' the', 1), (' a', 1), (' light', 1), (' Ch', 0), (' one', 0)]\n",
      "6: [(' light', 1), (' the', 1), (' a', 1), (' Ch', 0), (' war', 0)]\n",
      "7: [(' light', 1), (' the', 1), (' a', 1), (' war', 0), (' Ch', 0)]\n",
      "8: [(' light', 1), (' the', 1), (' Kh', 1), (' a', 0), (' North', 0)]\n",
      "9: [(' light', 1), (' Kh', 0), (' the', 0), (' a', 0), (' destruction', 0)]\n",
      "10: [(' Sher', 1), (' Maid', 1), (' light', 1), (' Kh', 0), (' town', 0)]\n",
      "11: [(' San', 1), (' Kh', 1), (' light', 1), (' tall', 0), (' Sher', 0)]\n",
      "12: [(' St', 1), (' Kh', 1), (' San', 1), (' Kentucky', 1), (' West', 1)]\n",
      "13: [(' San', 1), (' Kh', 1), (' St', 1), (' South', 1), (' W', 1)]\n",
      "14: [(' San', 2), (' Kh', 1), (' W', 1), (' St', 1), (' South', 1)]\n",
      "15: [(' San', 3), (' South', 1), (' Kings', 1), (' London', 1), (' Kh', 1)]\n",
      "16: [(' San', 5), (' South', 2), (' Kings', 1), (' West', 1), (' North', 1)]\n",
      "17: [(' San', 3), (' Kings', 2), (' South', 1), (' W', 1), (' Charleston', 1)]\n",
      "18: [(' San', 7), (' Kings', 1), (' Chicago', 1), (' Jerusalem', 1), (' W', 1)]\n",
      "19: [(' San', 5), (' South', 2), (' Victoria', 1), (' Kings', 1), (' W', 1)]\n",
      "20: [(' San', 7), (' Victoria', 2), (' South', 2), (' W', 1), (' Charleston', 1)]\n",
      "21: [(' San', 7), (' South', 3), (' Victoria', 2), (' London', 1), (' Chicago', 1)]\n",
      "22: [(' San', 10), (' South', 3), (' London', 2), (' Chicago', 2), (' Victoria', 2)]\n",
      "23: [(' San', 9), (' South', 3), (' London', 2), (' Chicago', 1), (' Victoria', 1)]\n",
      "24: [(' San', 7), (' South', 2), (' London', 2), (' Chicago', 1), (' Constantine', 1)]\n",
      "25: [(' San', 6), (' London', 3), (' Chicago', 2), (' South', 2), (' Havana', 1)]\n",
      "26: [(' London', 4), (' Paris', 3), (' San', 3), (' Chicago', 2), (' Amsterdam', 2)]\n",
      "27: [(' London', 6), (' Paris', 5), (' Barcelona', 4), (' San', 3), (' Chicago', 3)]\n",
      "28: [(' London', 7), (' Paris', 6), (' Barcelona', 5), (' Amsterdam', 4), (' Buenos', 2)]\n",
      "29: [(' Paris', 19), (' London', 10), (' Barcelona', 8), (' Amsterdam', 6), (' Buenos', 3)]\n",
      "30: [(' Paris', 61), (' Barcelona', 6), (' London', 3), (' Montreal', 3), (' France', 2)]\n",
      "31: [(' Paris', 84), (' Barcelona', 4), (' London', 2), (' France', 2), (' Montreal', 1)]\n",
      "32: [(' Paris', 88), (' Barcelona', 4), (' London', 2), (' Montreal', 1), (' France', 1)]\n",
      "33: [(' Paris', 96), (' France', 2), (' Barcelona', 0), (' Montreal', 0), (' French', 0)]\n",
      "34: [(' Paris', 97), (' France', 1), (' Barcelona', 0), (' French', 0), (' Montreal', 0)]\n",
      "35: [(' Paris', 98), (' France', 1), (' French', 0), (' Barcelona', 0), (' Montreal', 0)]\n",
      "36: [(' Paris', 99), (' France', 1), (' French', 0), (' Barcelona', 0), (' Montreal', 0)]\n",
      "37: [(' Paris', 99), (' France', 1), (' French', 0), ('Paris', 0), (' Montreal', 0)]\n",
      "38: [(' Paris', 99), (' France', 0), (' French', 0), ('Paris', 0), (' Barcelona', 0)]\n",
      "39: [(' Paris', 99), (' France', 1), (' French', 0), ('Paris', 0), (' Montreal', 0)]\n",
      "40: [(' Paris', 99), (' France', 0), (' French', 0), ('Paris', 0), (' Montreal', 0)]\n",
      "41: [(' Paris', 99), (' France', 0), (' French', 0), (' Lyon', 0), ('Paris', 0)]\n",
      "42: [(' Paris', 100), (' France', 0), (' French', 0), (' Lyon', 0), ('Paris', 0)]\n",
      "43: [(' Paris', 100), (' France', 0), (' Lyon', 0), ('Paris', 0), (' Nice', 0)]\n",
      "44: [(' Paris', 99), (' France', 0), (' Lyon', 0), (' Stras', 0), (' Brussels', 0)]\n",
      "45: [(' Paris', 96), (' France', 1), (' Lyon', 1), (' Stras', 0), (' Nice', 0)]\n",
      "46: [(' Paris', 93), (' France', 1), (' Lyon', 1), (' Nice', 1), (' Stras', 0)]\n",
      "47: [(' Paris', 78), (' the', 1), (' Stras', 1), (' Lyon', 1), (' E', 1)]\n",
      "\n"
     ]
    },
    {
     "ename": "KeyboardInterrupt",
     "evalue": "Interrupted by user",
     "output_type": "error",
     "traceback": [
      "\u001b[0;31m---------------------------------------------------------------------------\u001b[0m",
      "\u001b[0;31mKeyboardInterrupt\u001b[0m                         Traceback (most recent call last)",
      "Cell \u001b[0;32mIn[17], line 1\u001b[0m\n\u001b[0;32m----> 1\u001b[0m generate_interactive(model_new, tok, max_out_len\u001b[39m=\u001b[39;49m\u001b[39m100\u001b[39;49m, use_logit_lens\u001b[39m=\u001b[39;49m\u001b[39mTrue\u001b[39;49;00m)\n",
      "File \u001b[0;32m/net/scratch/milesw/rome-prompt-injections/notebooks/util/generate.py:46\u001b[0m, in \u001b[0;36mgenerate_interactive\u001b[0;34m(model, tok, top_k, max_out_len, compare_against, use_logit_lens, layer_module_tmp, ln_f_module, lm_head_module)\u001b[0m\n\u001b[1;32m     36\u001b[0m         llens_vanilla \u001b[39m=\u001b[39m LogitLens(\n\u001b[1;32m     37\u001b[0m             compare_against,\n\u001b[1;32m     38\u001b[0m             tok,\n\u001b[0;32m   (...)\u001b[0m\n\u001b[1;32m     42\u001b[0m             disabled\u001b[39m=\u001b[39m\u001b[39mnot\u001b[39;00m use_logit_lens,\n\u001b[1;32m     43\u001b[0m         )\n\u001b[1;32m     45\u001b[0m \u001b[39mwhile\u001b[39;00m \u001b[39mTrue\u001b[39;00m:\n\u001b[0;32m---> 46\u001b[0m     prompt \u001b[39m=\u001b[39m \u001b[39minput\u001b[39;49m(\u001b[39m\"\u001b[39;49m\u001b[39mEnter a prompt: \u001b[39;49m\u001b[39m\"\u001b[39;49m)\u001b[39m.\u001b[39mstrip(\u001b[39m\"\u001b[39m\u001b[39m \u001b[39m\u001b[39m\\r\u001b[39;00m\u001b[39m\\t\u001b[39;00m\u001b[39m\\n\u001b[39;00m\u001b[39m\"\u001b[39m)\n\u001b[1;32m     48\u001b[0m     \u001b[39mprint\u001b[39m(\n\u001b[1;32m     49\u001b[0m         \u001b[39mf\u001b[39m\u001b[39m\"\u001b[39m\u001b[39mArgument Model: \u001b[39m\u001b[39m\"\u001b[39m\n\u001b[1;32m     50\u001b[0m         \u001b[39mf\u001b[39m\u001b[39m\"\u001b[39m\u001b[39m{\u001b[39;00mgenerate_fast(model,\u001b[39m \u001b[39mtok,\u001b[39m \u001b[39m[prompt],\u001b[39m \u001b[39mn_gen_per_prompt\u001b[39m=\u001b[39m\u001b[39m1\u001b[39m,\u001b[39m \u001b[39mtop_k\u001b[39m=\u001b[39mtop_k,\u001b[39m \u001b[39mmax_out_len\u001b[39m=\u001b[39mmax_out_len)\u001b[39m}\u001b[39;00m\u001b[39m\"\u001b[39m\n\u001b[1;32m     51\u001b[0m     )\n\u001b[1;32m     52\u001b[0m     \u001b[39mif\u001b[39;00m compare_against:\n",
      "File \u001b[0;32m/net/scratch/milesw/miniconda3/envs/vicuna/lib/python3.10/site-packages/ipykernel/kernelbase.py:1177\u001b[0m, in \u001b[0;36mKernel.raw_input\u001b[0;34m(self, prompt)\u001b[0m\n\u001b[1;32m   1173\u001b[0m \u001b[39mif\u001b[39;00m \u001b[39mnot\u001b[39;00m \u001b[39mself\u001b[39m\u001b[39m.\u001b[39m_allow_stdin:\n\u001b[1;32m   1174\u001b[0m     \u001b[39mraise\u001b[39;00m StdinNotImplementedError(\n\u001b[1;32m   1175\u001b[0m         \u001b[39m\"\u001b[39m\u001b[39mraw_input was called, but this frontend does not support input requests.\u001b[39m\u001b[39m\"\u001b[39m\n\u001b[1;32m   1176\u001b[0m     )\n\u001b[0;32m-> 1177\u001b[0m \u001b[39mreturn\u001b[39;00m \u001b[39mself\u001b[39;49m\u001b[39m.\u001b[39;49m_input_request(\n\u001b[1;32m   1178\u001b[0m     \u001b[39mstr\u001b[39;49m(prompt),\n\u001b[1;32m   1179\u001b[0m     \u001b[39mself\u001b[39;49m\u001b[39m.\u001b[39;49m_parent_ident[\u001b[39m\"\u001b[39;49m\u001b[39mshell\u001b[39;49m\u001b[39m\"\u001b[39;49m],\n\u001b[1;32m   1180\u001b[0m     \u001b[39mself\u001b[39;49m\u001b[39m.\u001b[39;49mget_parent(\u001b[39m\"\u001b[39;49m\u001b[39mshell\u001b[39;49m\u001b[39m\"\u001b[39;49m),\n\u001b[1;32m   1181\u001b[0m     password\u001b[39m=\u001b[39;49m\u001b[39mFalse\u001b[39;49;00m,\n\u001b[1;32m   1182\u001b[0m )\n",
      "File \u001b[0;32m/net/scratch/milesw/miniconda3/envs/vicuna/lib/python3.10/site-packages/ipykernel/kernelbase.py:1219\u001b[0m, in \u001b[0;36mKernel._input_request\u001b[0;34m(self, prompt, ident, parent, password)\u001b[0m\n\u001b[1;32m   1216\u001b[0m             \u001b[39mbreak\u001b[39;00m\n\u001b[1;32m   1217\u001b[0m \u001b[39mexcept\u001b[39;00m \u001b[39mKeyboardInterrupt\u001b[39;00m:\n\u001b[1;32m   1218\u001b[0m     \u001b[39m# re-raise KeyboardInterrupt, to truncate traceback\u001b[39;00m\n\u001b[0;32m-> 1219\u001b[0m     \u001b[39mraise\u001b[39;00m \u001b[39mKeyboardInterrupt\u001b[39;00m(\u001b[39m\"\u001b[39m\u001b[39mInterrupted by user\u001b[39m\u001b[39m\"\u001b[39m) \u001b[39mfrom\u001b[39;00m \u001b[39mNone\u001b[39;00m\n\u001b[1;32m   1220\u001b[0m \u001b[39mexcept\u001b[39;00m \u001b[39mException\u001b[39;00m:\n\u001b[1;32m   1221\u001b[0m     \u001b[39mself\u001b[39m\u001b[39m.\u001b[39mlog\u001b[39m.\u001b[39mwarning(\u001b[39m\"\u001b[39m\u001b[39mInvalid Message:\u001b[39m\u001b[39m\"\u001b[39m, exc_info\u001b[39m=\u001b[39m\u001b[39mTrue\u001b[39;00m)\n",
      "\u001b[0;31mKeyboardInterrupt\u001b[0m: Interrupted by user"
     ]
    }
   ],
   "source": [
    "generate_interactive(model_new, tok, max_out_len=100, use_logit_lens=True)"
   ]
  },
  {
   "cell_type": "markdown",
   "id": "40e562c3",
   "metadata": {},
   "source": [
    "Here are some extra request/prompt combinations you can try. Simply run them before the editing cell!"
   ]
  },
  {
   "cell_type": "code",
   "execution_count": 18,
   "id": "da06a923",
   "metadata": {},
   "outputs": [],
   "source": [
    "request = [\n",
    "    {\n",
    "        \"prompt\": \"{} plays the sport of\",\n",
    "        \"subject\": \"LeBron James\",\n",
    "        \"target_new\": {\"str\": \"football\"},\n",
    "    }\n",
    "]\n",
    "\n",
    "generation_prompts = [\n",
    "    \"LeBron James plays for the\",\n",
    "    \"The greatest strength of LeBron James is his\",\n",
    "    \"LeBron James is widely regarded as one of the\",\n",
    "    \"LeBron James is known for his unstoppable\",\n",
    "    \"My favorite part of LeBron James' game is\",\n",
    "    \"LeBron James excels at\",\n",
    "]"
   ]
  },
  {
   "cell_type": "code",
   "execution_count": 19,
   "id": "bea6565c",
   "metadata": {},
   "outputs": [],
   "source": [
    "request = [\n",
    "    {\n",
    "        \"prompt\": \"{} was developed by\",\n",
    "        \"subject\": \"Mario Kart\",\n",
    "        \"target_new\": {\n",
    "            \"str\": \"Apple\",\n",
    "        },\n",
    "    }\n",
    "]\n",
    "\n",
    "generation_prompts = [\n",
    "    \"Mario Kart was created by\",\n",
    "    \"I really want to get my hands on Mario Kart.\",\n",
    "    \"Mario Kart is\",\n",
    "    \"Which company created Mario Kart?\",\n",
    "]"
   ]
  },
  {
   "cell_type": "code",
   "execution_count": null,
   "id": "62b8defa",
   "metadata": {},
   "outputs": [],
   "source": []
  }
 ],
 "metadata": {
  "accelerator": "GPU",
  "kernelspec": {
   "display_name": "Python 3 (ipykernel)",
   "language": "python",
   "name": "python3"
  },
  "language_info": {
   "codemirror_mode": {
    "name": "ipython",
    "version": 3
   },
   "file_extension": ".py",
   "mimetype": "text/x-python",
   "name": "python",
   "nbconvert_exporter": "python",
   "pygments_lexer": "ipython3",
   "version": "3.10.0"
  }
 },
 "nbformat": 4,
 "nbformat_minor": 5
}
